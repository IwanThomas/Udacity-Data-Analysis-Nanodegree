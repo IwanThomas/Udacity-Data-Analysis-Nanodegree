{
 "cells": [
  {
   "cell_type": "markdown",
   "metadata": {},
   "source": [
    "## OpenStreetMap Data Case Study: Udacity’s Data Analyst Nanodegree, Project 3\n",
    "## Report"
   ]
  },
  {
   "cell_type": "markdown",
   "metadata": {
    "collapsed": true
   },
   "source": [
    "### Section 1: Introduction\n",
    "#### Resources Used\n",
    "- Sample projects: \n",
    "    - https://github.com/allanbreyes/udacity-data-science/tree/master/p2\n",
    "    - https://gist.github.com/carlward/54ec1c91b62a5f911c42#file-sample_project-md\n",
    "- http://stackoverflow.com/questions/613183/sort-a-python-dictionary-by-value\n",
    "- https://discussions.udacity.com/t/iterative-parsing-using-iterparse/167980/2\n",
    "\n",
    "#### Map Area: London and its Surrounding Areas, England\n",
    "- https://mapzen.com/data/metro-extracts/\n",
    "\n",
    "#### Objective\n",
    "- Audit and clean the XML Dataset in Python\n",
    "- Convert from XML to CSV\n",
    "- Load dataset into SQL and perform queries to extract information from the dataset"
   ]
  },
  {
   "cell_type": "markdown",
   "metadata": {},
   "source": [
    "### Section 1: Data Auditing and Cleaning\n",
    "Investigate the most common tags in the dataset. Most common tags were found to be:\n",
    "\n",
    "\n",
    "    [('note', 1699), ('ref', 1746), ('landuse', 1831), ('source:building', 1890), ('foot', 2092), ('operator', 2154), ('surface', 2294), ('barrier', 2627), ('lit', 2733), ('amenity', 2872), ('addr:city', 2924), ('maxspeed', 2959), ('natural', 3859), ('addr:street', 5329), ('addr:housenumber', 5621), ('created_by', 6417), ('source', 12896), ('name', 13067), ('building', 16914), ('highway', 17564)]\n",
    "\n",
    "\n",
    "For the most common tag values above, I investigated the attribute values to understand the data cleaning tasks required by creating a defaultdict to store values and frequencies of the tags highway, building, street and source."
   ]
  },
  {
   "cell_type": "markdown",
   "metadata": {},
   "source": [
    "#### The Highway Tag\n",
    "Printing out the DefaultDict for the Highway Tag showed that the data was\n",
    "- clean.\n",
    "- valid --> all entries are expected for a highway\n",
    "- and consistent. There is only a single instance for each highway attribute value.\n",
    "\n",
    "Snippet of highway types:\n",
    "\n",
    "    access: 2\n",
    "    bridleway: 174\n",
    "    bus_guideway: 1\n",
    "    bus_stop: 1125\n",
    "    construction: 12\n",
    "    corridor: 1\n",
    "    crossing: 514\n",
    "    cycleway: 411\n"
   ]
  },
  {
   "cell_type": "markdown",
   "metadata": {},
   "source": [
    "#### The Building Tag\n",
    "Printing out the DefaultDict for the Building Tag showed that the data could be made more consistent and uniform by consolidating values such as 'garage' and 'garages' and 'boat_house' and 'boathouse' as one. \n",
    "\n",
    "Cleaning Performed:\n",
    "- parsed the XML File, cleaned the building values and wrote the corrected XML document out to file.\n",
    "\n",
    "Consolidated values:\n",
    "\n",
    "    boat_house & boathouse --> boathouse\n",
    "    garage & garages --> garage"
   ]
  },
  {
   "cell_type": "markdown",
   "metadata": {},
   "source": [
    "#### The Street Tag\n",
    "Some cleaning of the Street Data Required.\n",
    "- Multiple instances of the same street type need to be consolidated:\n",
    "    - Ave, ave, Avenue\n",
    "    - Rd, road, Road, ROAD\n",
    "    - St, Street, street\n",
    "    \n",
    "Cleaning Performed:\n",
    "- consolidated all instances of Avenue, Road and Street to Avenue, Road and Street using a mapping dicitionary and looping through the the values of the street tag."
   ]
  },
  {
   "cell_type": "markdown",
   "metadata": {},
   "source": [
    "#### The Source Tag\n",
    "Some cleaning of the Source Data Required. There were two problems that needed to be addressed:\n",
    "- Some values had multiple sources. In this case I split the string into multiple values using regex and created separate entries.\n",
    "- Standardised the names using a mapping key. I did this in two iterative steps.\n",
    "    - First I gathered together the major information sources and standardised their names.\n",
    "    - On a second pass, for the minor information sources not included in the mapping dictionary, I reassigned the source value to other.\n",
    "    \n",
    "The result was that the number of sources was reduced down to the following list whilst still preserving the major information sources. \n",
    "\n",
    "    Bing: 5058\n",
    "    GPS: 632\n",
    "    Knowledge: 322\n",
    "    London Borough of Southwark: 1358\n",
    "    Naptan Import: 859\n",
    "    NPE: 383\n",
    "    OS: 2052\n",
    "    Other: 713\n",
    "    Photograph: 281\n",
    "    SAS: 495\n",
    "    Survey: 1807\n",
    "    Yahoo: 442\n",
    "    "
   ]
  },
  {
   "cell_type": "markdown",
   "metadata": {},
   "source": [
    "### Section 2: Export XML document to CSV "
   ]
  },
  {
   "cell_type": "markdown",
   "metadata": {},
   "source": [
    "A script (see the code workbook) was written to prepare the dataset and export it to a CSV."
   ]
  },
  {
   "cell_type": "markdown",
   "metadata": {},
   "source": [
    "### Section 3: Inserting CSV into SQL"
   ]
  },
  {
   "cell_type": "markdown",
   "metadata": {},
   "source": [
    "The python files \n",
    "- create_nodes_db.py, \n",
    "- create_nodes_tags_db.py, \n",
    "- create_ways_db.py and \n",
    "- create_ways_tags_db.py \n",
    "\n",
    "were created to import the nodes, nodes_tags, ways and ways_tags csvs into SQL (these are included in the same Github repository). The ways_nodes csv was inputted in SQL. "
   ]
  },
  {
   "cell_type": "markdown",
   "metadata": {},
   "source": [
    "### Section 4: Data Overview\n",
    "I performed the following queries in the command line using sqlite3. I have pasted the queries and results into the notebook below for reference. "
   ]
  },
  {
   "cell_type": "markdown",
   "metadata": {},
   "source": [
    "**File Size**\n",
    "\n",
    "- The original file was 2.47 GB.\n",
    "- After taking every 40th element, the final file used for the project was 60 MB."
   ]
  },
  {
   "cell_type": "markdown",
   "metadata": {},
   "source": [
    "**Number of Nodes**\n",
    "\n",
    "    \"select count(id) from nodes\" --> 280985"
   ]
  },
  {
   "cell_type": "markdown",
   "metadata": {},
   "source": [
    "**Number of Ways**\n",
    "\n",
    "    \"select count(id) from ways\" --> 40199"
   ]
  },
  {
   "cell_type": "markdown",
   "metadata": {},
   "source": [
    "**Number of Unique Users**\n",
    "\n",
    "    \"select count(distinct uid) from nodes\" --> 3343\n",
    "\n",
    "    \"select count(distinct uid) from ways\" --> 1767"
   ]
  },
  {
   "cell_type": "markdown",
   "metadata": {},
   "source": [
    "**How does contribution from each user vary?**\n",
    "\n",
    "**Top 10 contributors**\n",
    "\n",
    "    \"create view top_10 contributors as select uid, count(id) as count from nodes group by uid order by count desc limit 10;\"\n",
    "\n",
    "**Sum up the contribution of these top 10 contributors**\n",
    "\n",
    "    \"select uid, sum(count) as sum from top_10_contributors;\"\n",
    "\n",
    "- 76,978 out of a total of 280,895 nodes are made by 10 users. \n",
    "- 50 users out of a total of 3343 who contributed to nodes created 169,204 nodes, over half of the total. "
   ]
  },
  {
   "cell_type": "markdown",
   "metadata": {},
   "source": [
    "**How many members only contribute one node?**\n",
    "\n",
    "    \"create view one_contribution as select uid, count (id) as count from nodes group by uid having count = 1;\"\n",
    "\n",
    "    \"select count(uid) as sum from one_contribution;\"\n",
    "\n",
    "- 1190 users, nearly a third of the total users, have contributed one node to the OSM of London and its surrounding areas."
   ]
  },
  {
   "cell_type": "markdown",
   "metadata": {},
   "source": [
    "**Average number of node contributions from each user**\n",
    "\n",
    "    \"select avg(count) from (select uid, count(id) as count from nodes group by uid) as count_all;\"\n",
    "\n",
    "- 84.05"
   ]
  },
  {
   "cell_type": "markdown",
   "metadata": {},
   "source": [
    "**Create a histogram of node contributions using pandas**\n",
    "\n",
    "First write file to csv and then import it below into a dataframe.\n",
    "\n",
    "     # write file to csv\n",
    "     .mode csv\n",
    "     .output node_contribution_per_user.csv\n",
    "     select count(id) from nodes group by uid;\n",
    "     \n",
    "The histogram below shows a positively skewed distribution. Most users contribute few nodes with a small minority contributing a large number."
   ]
  },
  {
   "cell_type": "code",
   "execution_count": 293,
   "metadata": {
    "collapsed": false
   },
   "outputs": [
    {
     "data": {
      "text/plain": [
       "[<matplotlib.text.Text at 0x2c3950b8>]"
      ]
     },
     "execution_count": 293,
     "metadata": {},
     "output_type": "execute_result"
    },
    {
     "data": {
      "image/png": "[encoded data removed]",
      "text/plain": [
       "<matplotlib.figure.Figure at 0x126b9a58>"
      ]
     },
     "metadata": {},
     "output_type": "display_data"
    }
   ],
   "source": [
    "import matplotlib.pyplot as plt\n",
    "import pandas as pd\n",
    "% matplotlib inline\n",
    "\n",
    "df = pd.read_csv('node_contribution_per_user.csv', header=None, names = ['node_count_per_user'])\n",
    "df\n",
    "ax = df.plot(kind = 'hist', title = 'Number of Nodes created per User',logy=True,alpha = 0.5, bins = 20)\n",
    "ax.set(xlabel = 'Number of Nodes Created')"
   ]
  },
  {
   "cell_type": "markdown",
   "metadata": {},
   "source": [
    "The histogram above showed us the contribution distribution by user. Below I have looked at the contribution distribution over time, to understand when most of the contributions to the London OSM Dataset were made.\n",
    "\n",
    "It seems like contributions for the number of nodes in London grew steadily up to 2012 but have since declined."
   ]
  },
  {
   "cell_type": "code",
   "execution_count": 317,
   "metadata": {
    "collapsed": false
   },
   "outputs": [
    {
     "data": {
      "text/plain": [
       "[<matplotlib.text.Text at 0x2187c6d8>, <matplotlib.text.Text at 0x2de8bef0>]"
      ]
     },
     "execution_count": 317,
     "metadata": {},
     "output_type": "execute_result"
    },
    {
     "data": {
      "image/png": "[encoded data removed]",
      "text/plain": [
       "<matplotlib.figure.Figure at 0x20e594a8>"
      ]
     },
     "metadata": {},
     "output_type": "display_data"
    }
   ],
   "source": [
    "import csv\n",
    "import re\n",
    "\n",
    "pattern = re.compile(r'(\\w+)')\n",
    "\n",
    "data = []\n",
    "with open ('date.csv', 'rb') as csvfile:\n",
    "    reader = csv.reader(csvfile)\n",
    "    for row in reader:\n",
    "        row = str(row)\n",
    "        result = (pattern.search(row)).group()\n",
    "        data.append(result)\n",
    "        \n",
    "df = pd.DataFrame(data)\n",
    "ax = df[0].value_counts().sort_index(axis=0, ascending=True).plot(kind = 'bar', title = 'Node Creation per Years')\n",
    "ax.set(xlabel = 'Year', ylabel = 'Nodes Created')"
   ]
  },
  {
   "cell_type": "markdown",
   "metadata": {},
   "source": [
    "**How many nodes on average make up a way?**\n",
    "\n",
    "    query = \"select avg(count) from (select ways_tags.id, count(node_id) as count from \n",
    "             ways_tags join ways_nodes on ways_tags.id = ways_nodes.id \n",
    "             group by ways_tags.id) as subq\"\n",
    "\n",
    "**Result:**\n",
    "23.1\n"
   ]
  },
  {
   "cell_type": "markdown",
   "metadata": {},
   "source": [
    "#### Let's now use the data to understand more about London."
   ]
  },
  {
   "cell_type": "markdown",
   "metadata": {},
   "source": [
    "**What are the ten most common amenities?**\n",
    "\n",
    "    query = \"select value, count(value) as count from nodes_tags \n",
    "            where key = 'amenity' group by value order by count desc limit 10;\"\n",
    "\n",
    "**Result:**\n",
    "\n",
    "- post_box,334\n",
    "- bench,196\n",
    "- bicycle_parking,151\n",
    "- pub,138\n",
    "- restaurant,113\n",
    "- telephone,97\n",
    "- cafe,75\n",
    "- waste_basket,70\n",
    "- place_of_worship,65\n",
    "- fast_food,62\n"
   ]
  },
  {
   "cell_type": "markdown",
   "metadata": {},
   "source": [
    "#### Additional Ideas"
   ]
  },
  {
   "cell_type": "markdown",
   "metadata": {},
   "source": [
    "- We saw above that few users contribute a large proportion of the nodes created in the dataset. A SQL query showed that 10 of the top contributors created nearly a quarter of the total nodes. To try to increase the number of contributors, we could look at ways of making it easier to contribute. Perhaps the process could be incorporated into a game such as Pokemon Go, where users who are already roaming the streets are awarded points for identifying and labelling features on the map. \n",
    "\n",
    "    - Implemented successfully, this would grant the OSM more data albeit dirty that would require cleaning. \n",
    "    - It would likely generate duplicate (possibly different) entries for a given node or way, requiring a method of choosing between these multiple entries. \n",
    "    - It would help generate a more complete dataset. \n",
    "    - Through redundancy, it could be used to improve the accuracy of the dataset. If there were several identical entries for a node or way then that datapoint could be assumed to be accurate. \n",
    "    \n",
    "- I was impressed by Google's use of computer vision to extract information from their streetview photos and embed them in their maps. Perhaps, users could also share their photographs and algorithms could be developed to extract information from these. \n",
    "    - This would require a level of investment and funding hard to come by for an open source project. \n",
    "    - Algorithms would need to be developed to extract information from the photographs.\n",
    "    - In return, the data could be cleaned at acquisition with quality control from a human. \n",
    "    - It would also provide a rich dataset, with precise GPS locations for roads and locations. \n",
    "- Regarding the dataset, I would be interested in seeing whether way creation activity had increased after 2012 when we saw the beginning of the decline in node creation. Perhaps the contributors changed their focus from creating the map to adding features to it. \n",
    "\n",
    "\n",
    "\n",
    "\n",
    "- Data cleaning aims to address imperfections in data quality, of which there are five main features\n",
    "    - Validity\n",
    "    - Accuracy\n",
    "    - Completeness\n",
    "    - Consistency\n",
    "    - Uniformity\n",
    "\n",
    "- Much of the effort above has been directed towards validity - deciding what street name, or building type name is valid and checking that the field values adhere to these constraints. Other work could look at auditing accuracy of data by comparing our dataset to another. We could extract google maps information from the API, and use it as a gold standard dataset to check for accuracy of the Open Street Map Dataset. This would also allow us to check for completeness. "
   ]
  },
  {
   "cell_type": "markdown",
   "metadata": {},
   "source": [
    "### Conclusion"
   ]
  },
  {
   "cell_type": "markdown",
   "metadata": {},
   "source": [
    "- The Open Street Map Data for London was downloaded in XML format, sampled for every 40th element. \n",
    "- Some parts of the data were audited and cleaned although cleaning tasks remain. The data was written to a CSV file, loaded into a SQL database (sqlite) and queries were constructed to understand the dataset (the number of nodes, ways, the contribution distributions by user and time) as well as extract information about London. "
   ]
  }
 ],
 "metadata": {
  "anaconda-cloud": {},
  "kernelspec": {
   "display_name": "Python [Root]",
   "language": "python",
   "name": "Python [Root]"
  },
  "language_info": {
   "codemirror_mode": {
    "name": "ipython",
    "version": 2
   },
   "file_extension": ".py",
   "mimetype": "text/x-python",
   "name": "python",
   "nbconvert_exporter": "python",
   "pygments_lexer": "ipython2",
   "version": "2.7.12"
  }
 },
 "nbformat": 4,
 "nbformat_minor": 0
}
